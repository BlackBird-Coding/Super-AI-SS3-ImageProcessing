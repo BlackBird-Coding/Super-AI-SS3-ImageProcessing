{
 "cells": [
  {
   "cell_type": "code",
   "execution_count": null,
   "metadata": {},
   "outputs": [],
   "source": [
    "import tensorflow as tf\n",
    "from tensorflow import keras\n",
    "\n",
    "import matplotlib.pyplot as plt\n",
    "import numpy as np\n",
    "import pandas as pd\n",
    "\n",
    "import pathlib\n",
    "import PIL\n",
    "from PIL import Image\n",
    "from PIL import ImageOps\n",
    "from PIL import ImageFilter"
   ]
  },
  {
   "cell_type": "code",
   "execution_count": null,
   "metadata": {},
   "outputs": [],
   "source": [
    "test = pd.read_json(\"./dataset/IM_Test.json\")\n",
    "test_dir = pathlib.Path(\"./dataset/IM_Test/\")\n",
    "images = list(test_dir.glob('*.png'))"
   ]
  },
  {
   "cell_type": "code",
   "execution_count": null,
   "metadata": {},
   "outputs": [],
   "source": [
    "model = keras.models.load_model(\"./models/imageProcessing/\")\n",
    "className = ['0', '1', '2', '3', '4', '5', '6', '7', '8', '9']\n",
    "df = pd.DataFrame(columns=[\"imageid_boxid\",\"class\"])\n",
    "for i in range(7000):\n",
    "    bboxs = test.iloc[i][\"bboxes\"]\n",
    "    filename = test.iloc[i][\"filename\"]\n",
    "    image = ImageOps.grayscale(Image.open(\"dataset/IM_Test/\"+filename).filter(ImageFilter.SHARPEN))\n",
    "    for j,b in enumerate(bboxs) : \n",
    "        crop = image.crop((b.get(\"x1\"),b.get(\"y1\"),b.get(\"x2\"),b.get(\"y2\"))).resize((30,30))\n",
    "        img_array = keras.utils.img_to_array(crop)\n",
    "        img_array = tf.expand_dims(img_array, 0)\n",
    "        predictions = model.predict(img_array)\n",
    "        score = tf.nn.softmax(predictions[0])\n",
    "        cl = className[np.argmax(score)]\n",
    "        print(\"File\",filename,className[np.argmax(score)] ,j)\n",
    "        da = pd.DataFrame([[str(i+1)+\"_\"+str(j),className[np.argmax(score)]]],columns=[\"imageid_boxid\",\"class\"])\n",
    "        df = pd.concat([df,da])\n",
    "        if(i % 200 == 0): df.to_csv(\"./submit/a.csv\", index=False)\n",
    "df.to_csv(\"./submit/a.csv\", index=False)"
   ]
  }
 ],
 "metadata": {
  "kernelspec": {
   "display_name": "Python 3.9.12 ('base')",
   "language": "python",
   "name": "python3"
  },
  "language_info": {
   "name": "python",
   "version": "3.9.12"
  },
  "orig_nbformat": 4,
  "vscode": {
   "interpreter": {
    "hash": "4639953fc310b90d39c886c321531fbb14f4e717de41ce7b5552e47b9b7e1799"
   }
  }
 },
 "nbformat": 4,
 "nbformat_minor": 2
}
