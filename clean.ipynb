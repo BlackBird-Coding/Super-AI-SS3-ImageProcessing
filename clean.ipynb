{
 "cells": [
  {
   "cell_type": "code",
   "execution_count": null,
   "metadata": {},
   "outputs": [],
   "source": [
    "import PIL\n",
    "from PIL import Image\n",
    "import pathlib\n",
    "import os"
   ]
  },
  {
   "cell_type": "code",
   "execution_count": null,
   "metadata": {},
   "outputs": [],
   "source": [
    "train_dir = pathlib.Path(\"./dataset/IM_Train/train/\")\n",
    "images = list(train_dir.glob('*/*.png'))\n",
    "len(images)"
   ]
  },
  {
   "cell_type": "code",
   "execution_count": null,
   "metadata": {},
   "outputs": [],
   "source": [
    "for image in images:\n",
    "    img = Image.open(image)\n",
    "    w,h = img.size\n",
    "    if(w > h*1.2) :\n",
    "        print(img.size)\n",
    "        filename = img.filename\n",
    "        img.close()\n",
    "        os.remove(filename )"
   ]
  }
 ],
 "metadata": {
  "kernelspec": {
   "display_name": "Python 3.9.12 ('base')",
   "language": "python",
   "name": "python3"
  },
  "language_info": {
   "name": "python",
   "version": "3.9.12"
  },
  "orig_nbformat": 4,
  "vscode": {
   "interpreter": {
    "hash": "4639953fc310b90d39c886c321531fbb14f4e717de41ce7b5552e47b9b7e1799"
   }
  }
 },
 "nbformat": 4,
 "nbformat_minor": 2
}
